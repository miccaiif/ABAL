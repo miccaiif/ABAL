{
 "cells": [
  {
   "cell_type": "code",
   "execution_count": 59,
   "metadata": {
    "ExecuteTime": {
     "end_time": "2021-11-01T09:02:35.239873Z",
     "start_time": "2021-11-01T09:02:34.616670Z"
    }
   },
   "outputs": [],
   "source": [
    "import pandas as pd\n",
    "from collections import Counter \n",
    "from sklearn.preprocessing import scale\n",
    "import numpy as np\n",
    "np.random.seed(42)"
   ]
  },
  {
   "cell_type": "code",
   "execution_count": 60,
   "metadata": {
    "ExecuteTime": {
     "end_time": "2021-11-01T09:02:41.344364Z",
     "start_time": "2021-11-01T09:02:41.190763Z"
    }
   },
   "outputs": [
    {
     "name": "stdout",
     "output_type": "stream",
     "text": [
      "Clustering: Counter({6: 7052, 3: 6452, 0: 6151, 2: 5622, 4: 5541, 7: 5221, 8: 3611, 9: 2019, 5: 1460, 1: 801})\n"
     ]
    }
   ],
   "source": [
    "'''\n",
    "ft:挑选后的特征\n",
    "t:特征对应金标准(无)\n",
    "name:样本名称\n",
    "c: 特征对应簇\n",
    "'''\n",
    "df1 = pd.read_csv('./feats_bank_train_1111.csv',header = None)\n",
    "# print(df1.shape)\n",
    "ft = df1.values #特征样本/128维\n",
    "# ft = scale(ft)\n",
    "\n",
    "df2 = pd.read_csv('./train_1111.txt',sep = ' ',header = None)#一般无需修改\n",
    "name = df2.iloc[:,0].values #图片位置名称\n",
    "# t = df2.iloc[:,1].values #金标准0/1\n",
    "# print('Original dataset:', Counter(t))\n",
    "\n",
    "df3 = pd.read_csv('./kmeans/RA005_VAE.csv',header = 0)\n",
    "c = df3.iloc[:,1].values\n",
    "print('Clustering:', Counter(c))"
   ]
  },
  {
   "cell_type": "code",
   "execution_count": 61,
   "metadata": {
    "ExecuteTime": {
     "end_time": "2021-10-22T05:49:00.978497Z",
     "start_time": "2021-10-22T05:49:00.971483Z"
    }
   },
   "outputs": [],
   "source": [
    "n_clusters = 10\n",
    "ratio = 0.50\n",
    "\n",
    "\n",
    "index=[] #index[i]表示第i个聚类对应的index列表\n",
    "ft_part=[] #ft_part[i]表示第i个聚类对应的特征向量列表\n",
    "for i in range(n_clusters):\n",
    "    index.append(np.where(c == i)[0])\n",
    "    ft_part.append(ft[index[i]])"
   ]
  },
  {
   "cell_type": "code",
   "execution_count": 62,
   "metadata": {
    "ExecuteTime": {
     "end_time": "2021-10-22T05:49:02.630041Z",
     "start_time": "2021-10-22T05:49:02.600435Z"
    }
   },
   "outputs": [
    {
     "name": "stdout",
     "output_type": "stream",
     "text": [
      "Resampled dataset: Counter({0: 2196, 2: 2196, 3: 2196, 4: 2196, 6: 2196, 7: 2196, 8: 2196, 9: 2019, 5: 1460, 1: 801})\n"
     ]
    },
    {
     "data": {
      "text/plain": [
       "19652"
      ]
     },
     "execution_count": 62,
     "metadata": {},
     "output_type": "execute_result"
    }
   ],
   "source": [
    "from modAL.density import information_density\n",
    "\n",
    "new_index=[]\n",
    "equal_per_cluster = True#False\n",
    "\n",
    "for i in range(n_clusters):\n",
    "#     print(\"Part %d start...\"%i)\n",
    "    cosine_density = information_density(ft_part[i], 'cosine')\n",
    "#     euclidean_density = information_density(ft_part[i], 'euclidean')\n",
    "\n",
    "    if equal_per_cluster:\n",
    "        sample_per_cluster=int(len(ft)*ratio*1.0/n_clusters)\n",
    "#         sample_per_cluster = 1\n",
    "    else:\n",
    "        sample_per_cluster=int(ratio*1.0*len(ft_part[i]))\n",
    "    \n",
    "    li=np.argsort(-cosine_density)[:sample_per_cluster]#1310/2620/3930/5240\n",
    "#     li=np.argsort(-euclidean_density)[:295]\n",
    "    new_index.extend(index[i][li])\n",
    "#     print(\"Part %d finished.\"%i)\n",
    "    \n",
    "# new_index = np.squeeze(new_index)\n",
    "# new_index = new_index.flatten()#根据代表性计算后的index，一维的list\n",
    "\n",
    "ft_sel = ft[new_index]\n",
    "# t_sel = t[new_index]\n",
    "c_sel = c[new_index]\n",
    "name_sel = name[new_index]\n",
    "\n",
    "print('Resampled dataset:', Counter(c_sel))\n",
    "len(c_sel)\n",
    "# print(len(t_sel))\n",
    "# a=dict(Counter(t_sel))\n",
    "# np.mean(list(a.values())), np.var(list(a.values()))\n",
    "#maybe euclidean的信息样本的效果更好\n",
    "#cosine_density的非信息样本更好一些"
   ]
  },
  {
   "cell_type": "code",
   "execution_count": 63,
   "metadata": {
    "ExecuteTime": {
     "end_time": "2021-10-22T05:48:46.469324Z",
     "start_time": "2021-10-22T05:48:46.467775Z"
    }
   },
   "outputs": [
    {
     "name": "stdout",
     "output_type": "stream",
     "text": [
      "\n",
      "注意保存csv的后缀\n",
      "\n"
     ]
    }
   ],
   "source": [
    "'''\n",
    "注意保存csv的后缀\n",
    "'''\n",
    "# print(__doc__)\n",
    "# dataframe1 = pd.DataFrame({'image_name':name_sel,'cluster':c_sel})\n",
    "# dataframe1.to_csv(\"../txt/RA30.txt\",index=False,sep=' ',header = None)\n",
    "# print(Counter(c_sel))\n",
    "print(__doc__)\n",
    "dataframe1 = pd.DataFrame({'image_name':name_sel})\n",
    "dataframe1.to_csv(\"./RA_pick_1126/MAE_R50_RA.txt\",index=False,sep=',',header = None)"
   ]
  },
  {
   "cell_type": "code",
   "execution_count": 64,
   "metadata": {
    "ExecuteTime": {
     "end_time": "2021-10-22T05:49:06.814005Z",
     "start_time": "2021-10-22T05:49:06.075965Z"
    }
   },
   "outputs": [],
   "source": [
    "# dataframe1 = pd.DataFrame(ft_sel)\n",
    "# dataframe1.to_csv(\"./RA_pick_1126/MAE_R5_RA.txt\",index=False,sep=',',header = None)"
   ]
  },
  {
   "cell_type": "code",
   "execution_count": null,
   "metadata": {},
   "outputs": [],
   "source": []
  },
  {
   "cell_type": "code",
   "execution_count": null,
   "metadata": {},
   "outputs": [],
   "source": []
  },
  {
   "cell_type": "code",
   "execution_count": null,
   "metadata": {},
   "outputs": [],
   "source": []
  },
  {
   "cell_type": "code",
   "execution_count": null,
   "metadata": {},
   "outputs": [],
   "source": []
  }
 ],
 "metadata": {
  "kernelspec": {
   "display_name": "Python 3 (ipykernel)",
   "language": "python",
   "name": "python3"
  },
  "language_info": {
   "codemirror_mode": {
    "name": "ipython",
    "version": 3
   },
   "file_extension": ".py",
   "mimetype": "text/x-python",
   "name": "python",
   "nbconvert_exporter": "python",
   "pygments_lexer": "ipython3",
   "version": "3.7.11"
  }
 },
 "nbformat": 4,
 "nbformat_minor": 4
}

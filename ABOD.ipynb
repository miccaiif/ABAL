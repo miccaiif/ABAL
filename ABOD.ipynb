{
 "cells": [
  {
   "cell_type": "code",
   "execution_count": 227,
   "metadata": {
    "ExecuteTime": {
     "end_time": "2021-07-07T11:33:27.062414Z",
     "start_time": "2021-07-07T11:33:25.973597Z"
    }
   },
   "outputs": [],
   "source": [
    "import numpy as np\n",
    "import matplotlib.pyplot as plt\n",
    "import pandas as pd\n",
    "from collections import Counter \n",
    "from sklearn.preprocessing import scale\n",
    "from modAL.density import information_density\n",
    "from pyod.models.abod import ABOD\n",
    "np.random.seed(42)\n",
    "import math\n",
    "import os\n",
    "import torch\n",
    "import time"
   ]
  },
  {
   "cell_type": "code",
   "execution_count": 228,
   "metadata": {
    "ExecuteTime": {
     "end_time": "2021-07-07T11:39:10.762646Z",
     "start_time": "2021-07-07T11:39:07.063794Z"
    }
   },
   "outputs": [
    {
     "name": "stdout",
     "output_type": "stream",
     "text": [
      "43930\n"
     ]
    }
   ],
   "source": [
    "'''\n",
    "ft:挑选后的特征\n",
    "t:特征对应金标准(无)\n",
    "name:样本名称\n",
    "c: 特征对应簇\n",
    "'''\n",
    "fts = np.load('MAE_feats.npy')\n",
    "names = np.load('name_list.npy')\n",
    "print(len(names))"
   ]
  },
  {
   "cell_type": "code",
   "execution_count": 229,
   "metadata": {
    "ExecuteTime": {
     "end_time": "2021-07-07T11:39:29.466431Z",
     "start_time": "2021-07-07T11:39:29.463955Z"
    }
   },
   "outputs": [],
   "source": [
    "def get_index1(lst=None, item=''):\n",
    "    tmp = []\n",
    "    tag = 0\n",
    "    for i in lst:\n",
    "        if i == item:\n",
    "            tmp.append(tag)\n",
    "        tag += 1\n",
    "    return tmp"
   ]
  },
  {
   "cell_type": "code",
   "execution_count": 230,
   "metadata": {
    "ExecuteTime": {
     "end_time": "2021-07-07T11:39:31.164889Z",
     "start_time": "2021-07-07T11:39:30.960151Z"
    }
   },
   "outputs": [
    {
     "name": "stdout",
     "output_type": "stream",
     "text": [
      "Counter({'train': 43930})\n"
     ]
    }
   ],
   "source": [
    "bag = []\n",
    "for name in names:\n",
    "    (filepath, filename) = os.path.split(name)\n",
    "    (filepath, filename) = os.path.split(filepath)\n",
    "\n",
    "#     bag.append(filename.split('_')[0])\n",
    "    bag.append(filename)\n",
    "print(Counter(bag))"
   ]
  },
  {
   "cell_type": "code",
   "execution_count": 231,
   "metadata": {
    "ExecuteTime": {
     "end_time": "2021-07-07T11:46:42.781948Z",
     "start_time": "2021-07-07T11:46:42.777301Z"
    }
   },
   "outputs": [
    {
     "name": "stdout",
     "output_type": "stream",
     "text": [
      "['train']\n"
     ]
    },
    {
     "data": {
      "text/plain": [
       "17572"
      ]
     },
     "execution_count": 231,
     "metadata": {},
     "output_type": "execute_result"
    }
   ],
   "source": [
    "bag_index=list(set(bag))\n",
    "print(bag_index)\n",
    "len(bag_index)\n",
    "alpha = 0.40\n",
    "sel_num = int(np.floor(alpha*43930))\n",
    "sel_num"
   ]
  },
  {
   "cell_type": "code",
   "execution_count": 232,
   "metadata": {
    "ExecuteTime": {
     "end_time": "2021-07-07T11:46:50.888560Z",
     "start_time": "2021-07-07T11:46:47.606384Z"
    },
    "scrolled": true
   },
   "outputs": [
    {
     "name": "stdout",
     "output_type": "stream",
     "text": [
      "69.12282133102417\n",
      "Resampled dataset: Counter({'train': 17572})\n",
      "17572\n"
     ]
    }
   ],
   "source": [
    "'''\n",
    "Representation/Outlier\n",
    "'''\n",
    "import math\n",
    "\n",
    "index=[] #index[i]表示第i个聚类对应的index列表\n",
    "ft_part=[] #ft_part[i]表示第i个聚类对应的特征向量列表\n",
    "new_index=[] #新列表\n",
    "\n",
    "for i in bag_index:\n",
    "    index.append(get_index1(bag, i))\n",
    "    ft_part.append(torch.Tensor(fts[get_index1(bag, i)]))\n",
    "\n",
    "\n",
    "for i in range(len(bag_index)):\n",
    "\n",
    "#     density = information_density(ft_part[i], 'cosine')#cosine/euclidean\n",
    "    clf = ABOD(method='fast',n_neighbors=10)\n",
    "    \n",
    "    start = time.time()\n",
    "    clf.fit(ft_part[i])\n",
    "    \n",
    "    density = clf.decision_scores_\n",
    "\n",
    "    # get the prediction on the test data\n",
    "#     y_test_scores = clf.decision_function(ft_part[i])  # outlier scores\n",
    "#     density = y_test_scores\n",
    "\n",
    "    centroids = np.argsort(density)[:sel_num] #density为从小到大排列，为代表性；-density为离群性 对于abod库来讲越小越正常\n",
    "    \n",
    "    end = time.time()\n",
    "    print (end-start)\n",
    "    \n",
    "    new_index.extend(np.array(index[i])[centroids])\n",
    "\n",
    "    \n",
    "ft_sel = fts[new_index]\n",
    "bag_sel = np.array(bag)[new_index]\n",
    "name_sel = names[new_index]\n",
    "\n",
    "from collections import Counter \n",
    "print('Resampled dataset:', Counter(bag_sel))\n",
    "print(len(name_sel))"
   ]
  },
  {
   "cell_type": "code",
   "execution_count": 234,
   "metadata": {},
   "outputs": [
    {
     "name": "stdout",
     "output_type": "stream",
     "text": [
      "27.938876152038574\n",
      "Resampled dataset: Counter({'train': 17572})\n",
      "17572\n"
     ]
    }
   ],
   "source": [
    "'''\n",
    "Representation/Outlier\n",
    "'''\n",
    "import math\n",
    "\n",
    "index=[] #index[i]表示第i个聚类对应的index列表\n",
    "ft_part=[] #ft_part[i]表示第i个聚类对应的特征向量列表\n",
    "new_index=[] #新列表\n",
    "\n",
    "for i in bag_index:\n",
    "    index.append(get_index1(bag, i))\n",
    "    ft_part.append(torch.Tensor(fts[get_index1(bag, i)]))\n",
    "\n",
    "\n",
    "for i in range(len(bag_index)):\n",
    "    \n",
    "    start = time.time()\n",
    "    density = information_density(ft_part[i], 'cosine')#cosine/euclidean\n",
    "\n",
    "    # get the prediction on the test data\n",
    "#     y_test_scores = clf.decision_function(ft_part[i])  # outlier scores\n",
    "#     density = y_test_scores\n",
    "\n",
    "    centroids = np.argsort(density)[:sel_num] #density为从小到大排列，为代表性；-density为离群性 对于abod库来讲越小越正常\n",
    "\n",
    "    end = time.time()\n",
    "    print (end-start)\n",
    "    \n",
    "    new_index.extend(np.array(index[i])[centroids])\n",
    "\n",
    "    \n",
    "ft_sel = fts[new_index]\n",
    "bag_sel = np.array(bag)[new_index]\n",
    "name_sel = names[new_index]\n",
    "\n",
    "from collections import Counter \n",
    "print('Resampled dataset:', Counter(bag_sel))\n",
    "print(len(name_sel))"
   ]
  },
  {
   "cell_type": "code",
   "execution_count": 214,
   "metadata": {},
   "outputs": [],
   "source": [
    "# y_test_scores"
   ]
  },
  {
   "cell_type": "code",
   "execution_count": 215,
   "metadata": {},
   "outputs": [],
   "source": [
    "# clf.decision_scores_"
   ]
  },
  {
   "cell_type": "code",
   "execution_count": 216,
   "metadata": {
    "ExecuteTime": {
     "end_time": "2021-07-07T11:49:16.485514Z",
     "start_time": "2021-07-07T11:49:16.453974Z"
    }
   },
   "outputs": [
    {
     "name": "stdout",
     "output_type": "stream",
     "text": [
      "\n",
      "注意保存csv的后缀\n",
      "\n"
     ]
    }
   ],
   "source": [
    "'''\n",
    "注意保存csv的后缀\n",
    "'''\n",
    "print(__doc__)\n",
    "dataframe1 = pd.DataFrame({'image_name':name_sel})\n",
    "dataframe1.to_csv(\"./ABOD_N25/MAE_40_ABOD_N25.txt\",index=False,sep=' ',header = None)\n",
    "\n",
    "# dataframe2 = pd.DataFrame(ft_sel)\n",
    "# dataframe2.to_csv(\"../FeatureBank/cifar10_1000_ex/1%/cifar10_1000_1%_FB/test_cifar10_1000_1%_fb.csv\",\n",
    "#                   index=False,sep=' ',header = None)\n",
    "\n",
    "\n"
   ]
  },
  {
   "cell_type": "code",
   "execution_count": null,
   "metadata": {},
   "outputs": [],
   "source": []
  },
  {
   "cell_type": "code",
   "execution_count": null,
   "metadata": {},
   "outputs": [],
   "source": []
  },
  {
   "cell_type": "code",
   "execution_count": null,
   "metadata": {},
   "outputs": [],
   "source": []
  },
  {
   "cell_type": "code",
   "execution_count": null,
   "metadata": {},
   "outputs": [],
   "source": []
  },
  {
   "cell_type": "code",
   "execution_count": null,
   "metadata": {},
   "outputs": [],
   "source": []
  }
 ],
 "metadata": {
  "kernelspec": {
   "display_name": "Python 3 (ipykernel)",
   "language": "python",
   "name": "python3"
  },
  "language_info": {
   "codemirror_mode": {
    "name": "ipython",
    "version": 3
   },
   "file_extension": ".py",
   "mimetype": "text/x-python",
   "name": "python",
   "nbconvert_exporter": "python",
   "pygments_lexer": "ipython3",
   "version": "3.7.11"
  }
 },
 "nbformat": 4,
 "nbformat_minor": 4
}

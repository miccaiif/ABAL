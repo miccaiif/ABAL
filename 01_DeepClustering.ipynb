{
 "cells": [
  {
   "cell_type": "code",
   "execution_count": 3,
   "metadata": {
    "ExecuteTime": {
     "end_time": "2021-10-22T05:45:19.840995Z",
     "start_time": "2021-10-22T05:45:19.161150Z"
    }
   },
   "outputs": [],
   "source": [
    "%matplotlib inline\n",
    "\n",
    "import numpy as np\n",
    "import matplotlib.pyplot as plt\n",
    "import pandas as pd\n",
    "\n",
    "from sklearn import metrics\n",
    "from sklearn.cluster import KMeans\n",
    "\n",
    "from sklearn.decomposition import PCA\n",
    "from sklearn.preprocessing import scale\n",
    "from collections import Counter \n",
    "import math\n",
    "\n",
    "# np.random.seed(42)"
   ]
  },
  {
   "cell_type": "code",
   "execution_count": 4,
   "metadata": {
    "ExecuteTime": {
     "end_time": "2021-10-22T05:45:19.993267Z",
     "start_time": "2021-10-22T05:45:19.842255Z"
    }
   },
   "outputs": [
    {
     "name": "stdout",
     "output_type": "stream",
     "text": [
      "(43930, 256)\n",
      "(43930, 2)\n"
     ]
    }
   ],
   "source": [
    "df1 = pd.read_csv('./feats_bank_train_1111.csv',header = None)\n",
    "print(df1.shape)\n",
    "ft=df1.values\n",
    "\n",
    "df2 = pd.read_csv('./train_1111.txt',sep = ' ',header = None)\n",
    "print(df2.shape)\n",
    "# t = df2.iloc[:,1].values\n",
    "name = df2.iloc[:,0].values"
   ]
  },
  {
   "cell_type": "code",
   "execution_count": 25,
   "metadata": {},
   "outputs": [
    {
     "data": {
      "text/plain": [
       "2841.6"
      ]
     },
     "execution_count": 25,
     "metadata": {},
     "output_type": "execute_result"
    }
   ],
   "source": [
    "# 4736*0.6"
   ]
  },
  {
   "cell_type": "code",
   "execution_count": 6,
   "metadata": {
    "ExecuteTime": {
     "end_time": "2021-10-22T05:45:26.324125Z",
     "start_time": "2021-10-22T05:45:26.321709Z"
    }
   },
   "outputs": [
    {
     "name": "stdout",
     "output_type": "stream",
     "text": [
      "2196\n"
     ]
    }
   ],
   "source": [
    "'''\n",
    "关于超参数的若干设置\n",
    "'''\n",
    "# 是否数值均一化?\n",
    "# data = scale(ft)\n",
    "data = ft\n",
    "\n",
    "n_samples, n_features = data.shape\n",
    "\n",
    "#聚类的数目：\n",
    "n_digits = 10\n",
    "# labels = t\n",
    "alpha = 0.05\n",
    "sample_size = int(np.floor(alpha*len(name)))      #silhouette_score采样数目\n",
    "print(sample_size)"
   ]
  },
  {
   "cell_type": "code",
   "execution_count": 7,
   "metadata": {
    "ExecuteTime": {
     "end_time": "2021-10-22T05:45:29.333911Z",
     "start_time": "2021-10-22T05:45:28.703994Z"
    }
   },
   "outputs": [
    {
     "name": "stdout",
     "output_type": "stream",
     "text": [
      "Resampled dataset shape Counter({6: 7052, 3: 6452, 0: 6151, 2: 5622, 4: 5541, 7: 5221, 8: 3611, 9: 2019, 5: 1460, 1: 801})\n",
      "935.2991519589023\n",
      "0.020519838164278003\n",
      "3.948067503914106\n"
     ]
    }
   ],
   "source": [
    "# pca = PCA(n_components=n_digits).fit(data)\n",
    "# 这里其实有三种选择'random'/'k-means++'/pca.components_\n",
    "kmeans = KMeans(init='random', n_clusters=n_digits, n_init=10)\n",
    "kmeans.fit(data)\n",
    "\n",
    "c=kmeans.labels_\n",
    "\n",
    "print('Resampled dataset shape %s' % Counter(c))\n",
    "\n",
    "print(metrics.calinski_harabasz_score(data, c))\n",
    "print(metrics.silhouette_score(data, c,\n",
    "                          metric='euclidean',\n",
    "                          sample_size=sample_size))\n",
    "print(metrics.davies_bouldin_score(data, c))"
   ]
  },
  {
   "cell_type": "code",
   "execution_count": 9,
   "metadata": {
    "ExecuteTime": {
     "end_time": "2021-10-22T05:45:33.791806Z",
     "start_time": "2021-10-22T05:45:33.780894Z"
    }
   },
   "outputs": [],
   "source": [
    "dataframe = pd.DataFrame({'image_name':name,'cls':c})\n",
    "dataframe.to_csv('./kmeans/RA005_VAE.csv',index=False)"
   ]
  },
  {
   "cell_type": "code",
   "execution_count": null,
   "metadata": {},
   "outputs": [],
   "source": []
  },
  {
   "cell_type": "code",
   "execution_count": 11,
   "metadata": {},
   "outputs": [],
   "source": [
    "# # 基于实例困难度阈值的欠采样\n",
    "# from imblearn.under_sampling import InstanceHardnessThreshold\n",
    "# from sklearn.neighbors import KNeighborsClassifier\n",
    "# knn = KNeighborsClassifier(n_neighbors=200,n_jobs=8)\n",
    "\n",
    "# iht = InstanceHardnessThreshold(sampling_strategy='all',random_state=42,\n",
    "#                                 n_jobs=8,estimator=knn)\n",
    "# ft_res, c_res = iht.fit_resample(ft, c)\n",
    "# print('Resampled dataset shape %s' % Counter(c_res))\n",
    "# method = iht"
   ]
  },
  {
   "cell_type": "code",
   "execution_count": 12,
   "metadata": {},
   "outputs": [],
   "source": [
    "# index = method.sample_indices_\n",
    "# #df2 = pd.read_csv('./clustering.csv',header = 0)\n",
    "# # name = df2.iloc[:,0].values\n",
    "# name_sel = name[index]\n",
    "\n",
    "# # df3 = pd.read_csv('../path/train_filter.txt',sep = ' ',header = None)\n",
    "# # label = df3.iloc[:,1].values\n",
    "\n",
    "# print('Original dataset shape %s' % Counter(t))\n",
    "\n",
    "# t_sel = t[index]\n",
    "\n",
    "# print('Resampled dataset shape %s' % Counter(t_sel))\n",
    "\n",
    "\n",
    "# len(t_sel)/len(t)"
   ]
  }
 ],
 "metadata": {
  "kernelspec": {
   "display_name": "Python 3 (ipykernel)",
   "language": "python",
   "name": "python3"
  },
  "language_info": {
   "codemirror_mode": {
    "name": "ipython",
    "version": 3
   },
   "file_extension": ".py",
   "mimetype": "text/x-python",
   "name": "python",
   "nbconvert_exporter": "python",
   "pygments_lexer": "ipython3",
   "version": "3.7.11"
  }
 },
 "nbformat": 4,
 "nbformat_minor": 4
}
